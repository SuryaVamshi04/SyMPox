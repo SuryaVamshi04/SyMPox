{
 "cells": [
  {
   "cell_type": "code",
   "execution_count": 2,
   "id": "4e6a8780",
   "metadata": {},
   "outputs": [],
   "source": [
    "import numpy as np\n",
    "import pandas as pd\n",
    "from xgboost import XGBClassifier\n",
    "import gradio as gr\n",
    "from sklearn.metrics import confusion_matrix, accuracy_score, f1_score, precision_score, recall_score\n",
    "from sklearn.model_selection import train_test_split\n",
    "from imblearn.over_sampling import SMOTE\n",
    "from imblearn.under_sampling import RandomUnderSampler\n",
    "from imblearn.pipeline import Pipeline\n",
    "import warnings"
   ]
  },
  {
   "cell_type": "code",
   "execution_count": 3,
   "id": "eef783db",
   "metadata": {},
   "outputs": [
    {
     "name": "stdout",
     "output_type": "stream",
     "text": [
      "Gradio version:  3.35.2\n"
     ]
    }
   ],
   "source": [
    "warnings.filterwarnings('ignore')\n",
    "# from PIL import Image\n",
    "print('Gradio version: ', gr.__version__)"
   ]
  },
  {
   "cell_type": "code",
   "execution_count": 4,
   "id": "5138aabf",
   "metadata": {},
   "outputs": [],
   "source": [
    "# define dataset\n",
    "dataset = pd.read_csv('D:\\projects-Georgian\\SmallPOX\\SyMPox\\Data.csv')\n",
    "X = dataset.iloc[:, 1:-1].values\n",
    "y = dataset.iloc[:, -1].values"
   ]
  },
  {
   "cell_type": "code",
   "execution_count": 5,
   "id": "d1cc9e68",
   "metadata": {},
   "outputs": [],
   "source": [
    "# Oversample with SMOTE and random undersample for imbalanced dataset\n",
    "# define pipeline\n",
    "over = SMOTE(sampling_strategy=0.5, random_state=27) #8\n",
    "under = RandomUnderSampler(sampling_strategy=0.5, random_state=376) #1\n",
    "steps = [('o', over), ('u', under)]\n",
    "pipeline = Pipeline(steps=steps)"
   ]
  },
  {
   "cell_type": "code",
   "execution_count": 6,
   "id": "552dcb85",
   "metadata": {},
   "outputs": [],
   "source": [
    "\n",
    "# transform the dataset\n",
    "X, y = pipeline.fit_resample(X, y)\n",
    "\n",
    "# split dataset to train and test set\n",
    "X_train, X_test, y_train, y_test = train_test_split(X, y, test_size = 0.2, random_state=354)"
   ]
  },
  {
   "cell_type": "code",
   "execution_count": 7,
   "id": "c8c4a9d3",
   "metadata": {},
   "outputs": [],
   "source": [
    "# define model and make prediction on test set\n",
    "classifier = XGBClassifier(learning_rate=0.0991, gamma=0, n_estimators = 80)\n",
    "classifier.fit(X_train, y_train)\n",
    "y_pred = classifier.predict(X_test)"
   ]
  },
  {
   "cell_type": "code",
   "execution_count": 8,
   "id": "e7451ae1",
   "metadata": {},
   "outputs": [
    {
     "name": "stdout",
     "output_type": "stream",
     "text": [
      "\n",
      " [[15  2]\n",
      " [ 1 38]]\n",
      "\n",
      "accuracy:    0.9464285714285714\n"
     ]
    }
   ],
   "source": [
    "# confusion matrix & accuracy score\n",
    "cm = confusion_matrix(y_test, y_pred)    \n",
    "print('\\n', cm)\n",
    "print('\\naccuracy:   ', accuracy_score(y_test, y_pred))"
   ]
  },
  {
   "cell_type": "code",
   "execution_count": 9,
   "id": "91529220",
   "metadata": {},
   "outputs": [
    {
     "name": "stdout",
     "output_type": "stream",
     "text": [
      "Running on local URL:  http://127.0.0.1:7860\n",
      "\n",
      "To create a public link, set `share=True` in `launch()`.\n"
     ]
    },
    {
     "data": {
      "text/html": [
       "<div><iframe src=\"http://127.0.0.1:7860/\" width=\"100%\" height=\"500\" allow=\"autoplay; camera; microphone; clipboard-read; clipboard-write;\" frameborder=\"0\" allowfullscreen></iframe></div>"
      ],
      "text/plain": [
       "<IPython.core.display.HTML object>"
      ]
     },
     "metadata": {},
     "output_type": "display_data"
    }
   ],
   "source": [
    "# creating a graphic environment\n",
    "header = dataset.columns[1:-1]\n",
    "\n",
    "def predict(symptoms):\n",
    "    new_sample = [0]*len(header)\n",
    "    for i in range(len(header)):\n",
    "        for j in range(len(symptoms)):\n",
    "            if header[i] == symptoms[j]:\n",
    "                new_sample[i] = 1\n",
    "    pred = classifier.predict(np.array(new_sample).reshape(1, len(header)))\n",
    "    print(pred)\n",
    "    \n",
    "    if pred == 1:\n",
    "      return  'positive.png', '❌ Regrettably, there exists a possibility of Monkeypox.'\n",
    "      \n",
    "    else:\n",
    "      return  'negative.png', '✔️ Fortunately, you have been spared from the presence of Monkeypox. It is recommended to consult with a medical professional for further confirmation.'\n",
    "    \n",
    "    \n",
    "title='🐒🦠 Detection of Monkeypox Cases Based on Symptoms'\n",
    "des='1. Kindly choose the symptoms you are experiencing from the provided section below and proceed by clicking the <b>Submit</b> button. The outcome will be displayed in the <u>output</u> section for your reference\\n2. If you wish to reset the selected symptoms, simply click the <b>Clear</b> button.'\n",
    "\n",
    "out_text = gr.Textbox(label=\"Result\")\n",
    "out_image = gr.Image(label=\" \")\n",
    "demo = gr.Interface(fn=predict, inputs=gr.CheckboxGroup(list(header)), outputs=[out_image, out_text], allow_flagging=\"never\",\n",
    "                   title=title, description=des)\n",
    "\n",
    "if __name__ == \"__main__\":\n",
    "    demo.launch()\n"
   ]
  },
  {
   "cell_type": "code",
   "execution_count": 31,
   "id": "dd7e5703",
   "metadata": {},
   "outputs": [],
   "source": [
    "import numpy as np \n",
    "import pandas as pd \n",
    "import matplotlib.pyplot as plt\n",
    "import seaborn as sns\n",
    "from pylab import rcParams\n",
    "import plotly_express as px\n",
    "import plotly.graph_objects as go\n",
    "from wordcloud import WordCloud\n",
    "%config InlineBackend.figure_format ='retina'"
   ]
  },
  {
   "cell_type": "code",
   "execution_count": 30,
   "id": "7aac6bca",
   "metadata": {},
   "outputs": [
    {
     "name": "stdout",
     "output_type": "stream",
     "text": [
      "Collecting wordcloud\n",
      "  Using cached wordcloud-1.9.3-cp310-cp310-win_amd64.whl (299 kB)\n",
      "Requirement already satisfied: numpy>=1.6.1 in c:\\users\\hp\\anaconda3\\lib\\site-packages (from wordcloud) (1.23.5)\n",
      "Requirement already satisfied: matplotlib in c:\\users\\hp\\anaconda3\\lib\\site-packages (from wordcloud) (3.7.0)\n",
      "Requirement already satisfied: pillow in c:\\users\\hp\\anaconda3\\lib\\site-packages (from wordcloud) (9.4.0)\n",
      "Requirement already satisfied: kiwisolver>=1.0.1 in c:\\users\\hp\\anaconda3\\lib\\site-packages (from matplotlib->wordcloud) (1.4.4)\n",
      "Requirement already satisfied: fonttools>=4.22.0 in c:\\users\\hp\\anaconda3\\lib\\site-packages (from matplotlib->wordcloud) (4.25.0)\n",
      "Requirement already satisfied: packaging>=20.0 in c:\\users\\hp\\anaconda3\\lib\\site-packages (from matplotlib->wordcloud) (22.0)\n",
      "Requirement already satisfied: contourpy>=1.0.1 in c:\\users\\hp\\anaconda3\\lib\\site-packages (from matplotlib->wordcloud) (1.0.5)\n",
      "Requirement already satisfied: python-dateutil>=2.7 in c:\\users\\hp\\anaconda3\\lib\\site-packages (from matplotlib->wordcloud) (2.8.2)\n",
      "Requirement already satisfied: pyparsing>=2.3.1 in c:\\users\\hp\\anaconda3\\lib\\site-packages (from matplotlib->wordcloud) (3.0.9)\n",
      "Requirement already satisfied: cycler>=0.10 in c:\\users\\hp\\anaconda3\\lib\\site-packages (from matplotlib->wordcloud) (0.11.0)\n",
      "Requirement already satisfied: six>=1.5 in c:\\users\\hp\\anaconda3\\lib\\site-packages (from python-dateutil>=2.7->matplotlib->wordcloud) (1.16.0)\n",
      "Installing collected packages: wordcloud\n",
      "Successfully installed wordcloud-1.9.3\n",
      "Note: you may need to restart the kernel to use updated packages.\n"
     ]
    }
   ],
   "source": [
    "pip install wordcloud"
   ]
  },
  {
   "cell_type": "code",
   "execution_count": 33,
   "id": "9b09a13e",
   "metadata": {},
   "outputs": [],
   "source": [
    "Case_worldwide= pd.read_csv('D:\\projects-Georgian\\SmallPOX\\Monkey_Pox_Cases_Worldwide.csv')"
   ]
  },
  {
   "cell_type": "code",
   "execution_count": 34,
   "id": "cc91a99a",
   "metadata": {},
   "outputs": [
    {
     "data": {
      "text/html": [
       "<div>\n",
       "<style scoped>\n",
       "    .dataframe tbody tr th:only-of-type {\n",
       "        vertical-align: middle;\n",
       "    }\n",
       "\n",
       "    .dataframe tbody tr th {\n",
       "        vertical-align: top;\n",
       "    }\n",
       "\n",
       "    .dataframe thead th {\n",
       "        text-align: right;\n",
       "    }\n",
       "</style>\n",
       "<table border=\"1\" class=\"dataframe\">\n",
       "  <thead>\n",
       "    <tr style=\"text-align: right;\">\n",
       "      <th></th>\n",
       "      <th>Country</th>\n",
       "      <th>Confirmed_Cases</th>\n",
       "      <th>Suspected_Cases</th>\n",
       "      <th>Hospitalized</th>\n",
       "      <th>Travel_History_Yes</th>\n",
       "      <th>Travel_History_No</th>\n",
       "    </tr>\n",
       "  </thead>\n",
       "  <tbody>\n",
       "    <tr>\n",
       "      <th>0</th>\n",
       "      <td>England</td>\n",
       "      <td>3412.0</td>\n",
       "      <td>0.0</td>\n",
       "      <td>5.0</td>\n",
       "      <td>2.0</td>\n",
       "      <td>7.0</td>\n",
       "    </tr>\n",
       "    <tr>\n",
       "      <th>1</th>\n",
       "      <td>Portugal</td>\n",
       "      <td>908.0</td>\n",
       "      <td>0.0</td>\n",
       "      <td>0.0</td>\n",
       "      <td>0.0</td>\n",
       "      <td>34.0</td>\n",
       "    </tr>\n",
       "    <tr>\n",
       "      <th>2</th>\n",
       "      <td>Spain</td>\n",
       "      <td>7083.0</td>\n",
       "      <td>0.0</td>\n",
       "      <td>13.0</td>\n",
       "      <td>2.0</td>\n",
       "      <td>0.0</td>\n",
       "    </tr>\n",
       "    <tr>\n",
       "      <th>3</th>\n",
       "      <td>United States</td>\n",
       "      <td>24403.0</td>\n",
       "      <td>0.0</td>\n",
       "      <td>4.0</td>\n",
       "      <td>41.0</td>\n",
       "      <td>11.0</td>\n",
       "    </tr>\n",
       "    <tr>\n",
       "      <th>4</th>\n",
       "      <td>Canada</td>\n",
       "      <td>1388.0</td>\n",
       "      <td>12.0</td>\n",
       "      <td>1.0</td>\n",
       "      <td>5.0</td>\n",
       "      <td>0.0</td>\n",
       "    </tr>\n",
       "  </tbody>\n",
       "</table>\n",
       "</div>"
      ],
      "text/plain": [
       "         Country  Confirmed_Cases  Suspected_Cases  Hospitalized   \n",
       "0        England           3412.0              0.0           5.0  \\\n",
       "1       Portugal            908.0              0.0           0.0   \n",
       "2          Spain           7083.0              0.0          13.0   \n",
       "3  United States          24403.0              0.0           4.0   \n",
       "4         Canada           1388.0             12.0           1.0   \n",
       "\n",
       "   Travel_History_Yes  Travel_History_No  \n",
       "0                 2.0                7.0  \n",
       "1                 0.0               34.0  \n",
       "2                 2.0                0.0  \n",
       "3                41.0               11.0  \n",
       "4                 5.0                0.0  "
      ]
     },
     "execution_count": 34,
     "metadata": {},
     "output_type": "execute_result"
    }
   ],
   "source": [
    "Case_worldwide.head()"
   ]
  },
  {
   "cell_type": "code",
   "execution_count": 35,
   "id": "06e219ca",
   "metadata": {},
   "outputs": [
    {
     "name": "stdout",
     "output_type": "stream",
     "text": [
      "<class 'pandas.core.frame.DataFrame'>\n",
      "RangeIndex: 129 entries, 0 to 128\n",
      "Data columns (total 6 columns):\n",
      " #   Column              Non-Null Count  Dtype  \n",
      "---  ------              --------------  -----  \n",
      " 0   Country             129 non-null    object \n",
      " 1   Confirmed_Cases     129 non-null    float64\n",
      " 2   Suspected_Cases     129 non-null    float64\n",
      " 3   Hospitalized        129 non-null    float64\n",
      " 4   Travel_History_Yes  129 non-null    float64\n",
      " 5   Travel_History_No   129 non-null    float64\n",
      "dtypes: float64(5), object(1)\n",
      "memory usage: 6.2+ KB\n"
     ]
    }
   ],
   "source": [
    "Case_worldwide.info()"
   ]
  },
  {
   "cell_type": "code",
   "execution_count": 36,
   "id": "4749aa3d",
   "metadata": {},
   "outputs": [],
   "source": [
    "# Monkey Pox affected countries worldwide\n",
    "\n",
    "def plot_map(df,col, title):\n",
    "    df = df[df[col]>0]\n",
    "    fig = px.choropleth(df, locations=\"Country\", locationmode='country names', \n",
    "                  color=col, hover_name=\"Country\", \n",
    "                  title=title, hover_data=[col], color_continuous_scale=\"Plasma\")\n",
    "    fig.show()"
   ]
  },
  {
   "cell_type": "code",
   "execution_count": 37,
   "id": "2d9db632",
   "metadata": {},
   "outputs": [],
   "source": [
    "def treemap_plot(col):\n",
    "    fig = px.treemap(mp_cases_worldwide, path=[\"Country\"], values=col, height=700,\n",
    "                 color_discrete_sequence = px.colors.qualitative.Dark2)\n",
    "    fig.data[0].textinfo = 'label+text+value'\n",
    "    fig.show()"
   ]
  },
  {
   "cell_type": "code",
   "execution_count": 38,
   "id": "93e65420",
   "metadata": {},
   "outputs": [
    {
     "data": {
      "application/vnd.plotly.v1+json": {
       "config": {
        "plotlyServerURL": "https://plot.ly"
       },
       "data": [
        {
         "coloraxis": "coloraxis",
         "customdata": [
          [
           3412
          ],
          [
           908
          ],
          [
           7083
          ],
          [
           24403
          ],
          [
           1388
          ],
          [
           186
          ],
          [
           837
          ],
          [
           3934
          ],
          [
           757
          ],
          [
           132
          ],
          [
           3590
          ],
          [
           1221
          ],
          [
           250
          ],
          [
           503
          ],
          [
           72
          ],
          [
           304
          ],
          [
           326
          ],
          [
           183
          ],
          [
           3
          ],
          [
           46
          ],
          [
           93
          ],
          [
           66
          ],
          [
           16
          ],
          [
           33
          ],
          [
           46
          ],
          [
           34
          ],
          [
           6
          ],
          [
           155
          ],
          [
           1
          ],
          [
           93
          ],
          [
           33
          ],
          [
           178
          ],
          [
           1367
          ],
          [
           8
          ],
          [
           2251
          ],
          [
           7300
          ],
          [
           77
          ],
          [
           90
          ],
          [
           1
          ],
          [
           4
          ],
          [
           6
          ],
          [
           6
          ],
          [
           5
          ],
          [
           11
          ],
          [
           2
          ],
          [
           84
          ],
          [
           12
          ],
          [
           12
          ],
          [
           173
          ],
          [
           5
          ],
          [
           39
          ],
          [
           2
          ],
          [
           14
          ],
          [
           55
          ],
          [
           783
          ],
          [
           40
          ],
          [
           11
          ],
          [
           2
          ],
          [
           19
          ],
          [
           5
          ],
          [
           3
          ],
          [
           1653
          ],
          [
           29
          ],
          [
           6
          ],
          [
           3
          ],
          [
           11
          ],
          [
           173
          ],
          [
           13
          ],
          [
           31
          ],
          [
           13
          ],
          [
           5
          ],
          [
           2
          ],
          [
           3
          ],
          [
           8
          ],
          [
           7
          ],
          [
           1
          ],
          [
           5
          ],
          [
           1
          ],
          [
           4
          ],
          [
           1
          ],
          [
           4
          ],
          [
           1
          ],
          [
           1
          ],
          [
           4
          ],
          [
           2
          ],
          [
           5
          ],
          [
           5
          ],
          [
           15
          ],
          [
           1
          ],
          [
           2
          ],
          [
           2
          ],
          [
           6
          ],
          [
           3
          ],
          [
           1
          ],
          [
           3
          ],
          [
           3
          ],
          [
           2
          ],
          [
           2
          ],
          [
           4
          ],
          [
           1
          ],
          [
           2
          ],
          [
           1
          ],
          [
           1
          ],
          [
           1
          ],
          [
           2
          ],
          [
           1
          ],
          [
           277
          ],
          [
           195
          ],
          [
           8
          ],
          [
           3
          ],
          [
           7
          ],
          [
           2
          ]
         ],
         "geo": "geo",
         "hovertemplate": "<b>%{hovertext}</b><br><br>Country=%{location}<br>Confirmed_Cases=%{z}<extra></extra>",
         "hovertext": [
          "England",
          "Portugal",
          "Spain",
          "United States",
          "Canada",
          "Sweden",
          "Italy",
          "France",
          "Belgium",
          "Australia",
          "Germany",
          "Netherlands",
          "Israel",
          "Switzerland",
          "Greece",
          "Austria",
          "Argentina",
          "Denmark",
          "Morocco",
          "Slovenia",
          "Scotland",
          "Czech Republic",
          "United Arab Emirates",
          "Finland",
          "Wales",
          "Northern Ireland",
          "Sudan",
          "Bolivia",
          "Iran",
          "Ecuador",
          "Malta",
          "Ireland",
          "Mexico",
          "Thailand",
          "Peru",
          "Brazil",
          "Hungary",
          "Norway",
          "Paraguay",
          "Costa Rica",
          "Gibraltar",
          "Uruguay",
          "Latvia",
          "Turkey",
          "Bahamas",
          "Ghana",
          "India",
          "Iceland",
          "Poland",
          "Venezuela",
          "Romania",
          "Georgia",
          "Slovakia",
          "Luxembourg",
          "Chile",
          "Serbia",
          "Lebanon",
          "South Korea",
          "Singapore",
          "South Africa",
          "Taiwan",
          "Colombia",
          "Croatia",
          "Bulgaria",
          "Benin",
          "Estonia",
          "Puerto Rico",
          "Panama",
          "Dominican Republic",
          "Jamaica",
          "New Zealand",
          "Russia",
          "Bosnia And Herzegovina",
          "Saudi Arabia",
          "Martinique",
          "Barbados",
          "Qatar",
          "Bermuda",
          "Japan",
          "Guadeloupe",
          "Andorra",
          "New Caledonia",
          "China",
          "Philippines",
          "Montenegro",
          "Cyprus",
          "Lithuania",
          "Guatemala",
          "Saint Martin (French part)",
          "Greenland",
          "Moldova",
          "Honduras",
          "Monaco",
          "Indonesia",
          "Curaçao",
          "Aruba",
          "Cuba",
          "Guyana",
          "El Salvador",
          "Hong Kong",
          "South Sudan",
          "Egypt",
          "Jordan",
          "Guam",
          "Ukraine",
          "Bahrain",
          "Nigeria",
          "Democratic Republic Of The Congo",
          "Central African Republic",
          "Republic of Congo",
          "Cameroon",
          "Liberia"
         ],
         "locationmode": "country names",
         "locations": [
          "England",
          "Portugal",
          "Spain",
          "United States",
          "Canada",
          "Sweden",
          "Italy",
          "France",
          "Belgium",
          "Australia",
          "Germany",
          "Netherlands",
          "Israel",
          "Switzerland",
          "Greece",
          "Austria",
          "Argentina",
          "Denmark",
          "Morocco",
          "Slovenia",
          "Scotland",
          "Czech Republic",
          "United Arab Emirates",
          "Finland",
          "Wales",
          "Northern Ireland",
          "Sudan",
          "Bolivia",
          "Iran",
          "Ecuador",
          "Malta",
          "Ireland",
          "Mexico",
          "Thailand",
          "Peru",
          "Brazil",
          "Hungary",
          "Norway",
          "Paraguay",
          "Costa Rica",
          "Gibraltar",
          "Uruguay",
          "Latvia",
          "Turkey",
          "Bahamas",
          "Ghana",
          "India",
          "Iceland",
          "Poland",
          "Venezuela",
          "Romania",
          "Georgia",
          "Slovakia",
          "Luxembourg",
          "Chile",
          "Serbia",
          "Lebanon",
          "South Korea",
          "Singapore",
          "South Africa",
          "Taiwan",
          "Colombia",
          "Croatia",
          "Bulgaria",
          "Benin",
          "Estonia",
          "Puerto Rico",
          "Panama",
          "Dominican Republic",
          "Jamaica",
          "New Zealand",
          "Russia",
          "Bosnia And Herzegovina",
          "Saudi Arabia",
          "Martinique",
          "Barbados",
          "Qatar",
          "Bermuda",
          "Japan",
          "Guadeloupe",
          "Andorra",
          "New Caledonia",
          "China",
          "Philippines",
          "Montenegro",
          "Cyprus",
          "Lithuania",
          "Guatemala",
          "Saint Martin (French part)",
          "Greenland",
          "Moldova",
          "Honduras",
          "Monaco",
          "Indonesia",
          "Curaçao",
          "Aruba",
          "Cuba",
          "Guyana",
          "El Salvador",
          "Hong Kong",
          "South Sudan",
          "Egypt",
          "Jordan",
          "Guam",
          "Ukraine",
          "Bahrain",
          "Nigeria",
          "Democratic Republic Of The Congo",
          "Central African Republic",
          "Republic of Congo",
          "Cameroon",
          "Liberia"
         ],
         "name": "",
         "type": "choropleth",
         "z": [
          3412,
          908,
          7083,
          24403,
          1388,
          186,
          837,
          3934,
          757,
          132,
          3590,
          1221,
          250,
          503,
          72,
          304,
          326,
          183,
          3,
          46,
          93,
          66,
          16,
          33,
          46,
          34,
          6,
          155,
          1,
          93,
          33,
          178,
          1367,
          8,
          2251,
          7300,
          77,
          90,
          1,
          4,
          6,
          6,
          5,
          11,
          2,
          84,
          12,
          12,
          173,
          5,
          39,
          2,
          14,
          55,
          783,
          40,
          11,
          2,
          19,
          5,
          3,
          1653,
          29,
          6,
          3,
          11,
          173,
          13,
          31,
          13,
          5,
          2,
          3,
          8,
          7,
          1,
          5,
          1,
          4,
          1,
          4,
          1,
          1,
          4,
          2,
          5,
          5,
          15,
          1,
          2,
          2,
          6,
          3,
          1,
          3,
          3,
          2,
          2,
          4,
          1,
          2,
          1,
          1,
          1,
          2,
          1,
          277,
          195,
          8,
          3,
          7,
          2
         ]
        }
       ],
       "layout": {
        "coloraxis": {
         "colorbar": {
          "title": {
           "text": "Confirmed_Cases"
          }
         },
         "colorscale": [
          [
           0,
           "#0d0887"
          ],
          [
           0.1111111111111111,
           "#46039f"
          ],
          [
           0.2222222222222222,
           "#7201a8"
          ],
          [
           0.3333333333333333,
           "#9c179e"
          ],
          [
           0.4444444444444444,
           "#bd3786"
          ],
          [
           0.5555555555555556,
           "#d8576b"
          ],
          [
           0.6666666666666666,
           "#ed7953"
          ],
          [
           0.7777777777777778,
           "#fb9f3a"
          ],
          [
           0.8888888888888888,
           "#fdca26"
          ],
          [
           1,
           "#f0f921"
          ]
         ]
        },
        "geo": {
         "center": {},
         "domain": {
          "x": [
           0,
           1
          ],
          "y": [
           0,
           1
          ]
         }
        },
        "legend": {
         "tracegroupgap": 0
        },
        "template": {
         "data": {
          "bar": [
           {
            "error_x": {
             "color": "#2a3f5f"
            },
            "error_y": {
             "color": "#2a3f5f"
            },
            "marker": {
             "line": {
              "color": "#E5ECF6",
              "width": 0.5
             },
             "pattern": {
              "fillmode": "overlay",
              "size": 10,
              "solidity": 0.2
             }
            },
            "type": "bar"
           }
          ],
          "barpolar": [
           {
            "marker": {
             "line": {
              "color": "#E5ECF6",
              "width": 0.5
             },
             "pattern": {
              "fillmode": "overlay",
              "size": 10,
              "solidity": 0.2
             }
            },
            "type": "barpolar"
           }
          ],
          "carpet": [
           {
            "aaxis": {
             "endlinecolor": "#2a3f5f",
             "gridcolor": "white",
             "linecolor": "white",
             "minorgridcolor": "white",
             "startlinecolor": "#2a3f5f"
            },
            "baxis": {
             "endlinecolor": "#2a3f5f",
             "gridcolor": "white",
             "linecolor": "white",
             "minorgridcolor": "white",
             "startlinecolor": "#2a3f5f"
            },
            "type": "carpet"
           }
          ],
          "choropleth": [
           {
            "colorbar": {
             "outlinewidth": 0,
             "ticks": ""
            },
            "type": "choropleth"
           }
          ],
          "contour": [
           {
            "colorbar": {
             "outlinewidth": 0,
             "ticks": ""
            },
            "colorscale": [
             [
              0,
              "#0d0887"
             ],
             [
              0.1111111111111111,
              "#46039f"
             ],
             [
              0.2222222222222222,
              "#7201a8"
             ],
             [
              0.3333333333333333,
              "#9c179e"
             ],
             [
              0.4444444444444444,
              "#bd3786"
             ],
             [
              0.5555555555555556,
              "#d8576b"
             ],
             [
              0.6666666666666666,
              "#ed7953"
             ],
             [
              0.7777777777777778,
              "#fb9f3a"
             ],
             [
              0.8888888888888888,
              "#fdca26"
             ],
             [
              1,
              "#f0f921"
             ]
            ],
            "type": "contour"
           }
          ],
          "contourcarpet": [
           {
            "colorbar": {
             "outlinewidth": 0,
             "ticks": ""
            },
            "type": "contourcarpet"
           }
          ],
          "heatmap": [
           {
            "colorbar": {
             "outlinewidth": 0,
             "ticks": ""
            },
            "colorscale": [
             [
              0,
              "#0d0887"
             ],
             [
              0.1111111111111111,
              "#46039f"
             ],
             [
              0.2222222222222222,
              "#7201a8"
             ],
             [
              0.3333333333333333,
              "#9c179e"
             ],
             [
              0.4444444444444444,
              "#bd3786"
             ],
             [
              0.5555555555555556,
              "#d8576b"
             ],
             [
              0.6666666666666666,
              "#ed7953"
             ],
             [
              0.7777777777777778,
              "#fb9f3a"
             ],
             [
              0.8888888888888888,
              "#fdca26"
             ],
             [
              1,
              "#f0f921"
             ]
            ],
            "type": "heatmap"
           }
          ],
          "heatmapgl": [
           {
            "colorbar": {
             "outlinewidth": 0,
             "ticks": ""
            },
            "colorscale": [
             [
              0,
              "#0d0887"
             ],
             [
              0.1111111111111111,
              "#46039f"
             ],
             [
              0.2222222222222222,
              "#7201a8"
             ],
             [
              0.3333333333333333,
              "#9c179e"
             ],
             [
              0.4444444444444444,
              "#bd3786"
             ],
             [
              0.5555555555555556,
              "#d8576b"
             ],
             [
              0.6666666666666666,
              "#ed7953"
             ],
             [
              0.7777777777777778,
              "#fb9f3a"
             ],
             [
              0.8888888888888888,
              "#fdca26"
             ],
             [
              1,
              "#f0f921"
             ]
            ],
            "type": "heatmapgl"
           }
          ],
          "histogram": [
           {
            "marker": {
             "pattern": {
              "fillmode": "overlay",
              "size": 10,
              "solidity": 0.2
             }
            },
            "type": "histogram"
           }
          ],
          "histogram2d": [
           {
            "colorbar": {
             "outlinewidth": 0,
             "ticks": ""
            },
            "colorscale": [
             [
              0,
              "#0d0887"
             ],
             [
              0.1111111111111111,
              "#46039f"
             ],
             [
              0.2222222222222222,
              "#7201a8"
             ],
             [
              0.3333333333333333,
              "#9c179e"
             ],
             [
              0.4444444444444444,
              "#bd3786"
             ],
             [
              0.5555555555555556,
              "#d8576b"
             ],
             [
              0.6666666666666666,
              "#ed7953"
             ],
             [
              0.7777777777777778,
              "#fb9f3a"
             ],
             [
              0.8888888888888888,
              "#fdca26"
             ],
             [
              1,
              "#f0f921"
             ]
            ],
            "type": "histogram2d"
           }
          ],
          "histogram2dcontour": [
           {
            "colorbar": {
             "outlinewidth": 0,
             "ticks": ""
            },
            "colorscale": [
             [
              0,
              "#0d0887"
             ],
             [
              0.1111111111111111,
              "#46039f"
             ],
             [
              0.2222222222222222,
              "#7201a8"
             ],
             [
              0.3333333333333333,
              "#9c179e"
             ],
             [
              0.4444444444444444,
              "#bd3786"
             ],
             [
              0.5555555555555556,
              "#d8576b"
             ],
             [
              0.6666666666666666,
              "#ed7953"
             ],
             [
              0.7777777777777778,
              "#fb9f3a"
             ],
             [
              0.8888888888888888,
              "#fdca26"
             ],
             [
              1,
              "#f0f921"
             ]
            ],
            "type": "histogram2dcontour"
           }
          ],
          "mesh3d": [
           {
            "colorbar": {
             "outlinewidth": 0,
             "ticks": ""
            },
            "type": "mesh3d"
           }
          ],
          "parcoords": [
           {
            "line": {
             "colorbar": {
              "outlinewidth": 0,
              "ticks": ""
             }
            },
            "type": "parcoords"
           }
          ],
          "pie": [
           {
            "automargin": true,
            "type": "pie"
           }
          ],
          "scatter": [
           {
            "fillpattern": {
             "fillmode": "overlay",
             "size": 10,
             "solidity": 0.2
            },
            "type": "scatter"
           }
          ],
          "scatter3d": [
           {
            "line": {
             "colorbar": {
              "outlinewidth": 0,
              "ticks": ""
             }
            },
            "marker": {
             "colorbar": {
              "outlinewidth": 0,
              "ticks": ""
             }
            },
            "type": "scatter3d"
           }
          ],
          "scattercarpet": [
           {
            "marker": {
             "colorbar": {
              "outlinewidth": 0,
              "ticks": ""
             }
            },
            "type": "scattercarpet"
           }
          ],
          "scattergeo": [
           {
            "marker": {
             "colorbar": {
              "outlinewidth": 0,
              "ticks": ""
             }
            },
            "type": "scattergeo"
           }
          ],
          "scattergl": [
           {
            "marker": {
             "colorbar": {
              "outlinewidth": 0,
              "ticks": ""
             }
            },
            "type": "scattergl"
           }
          ],
          "scattermapbox": [
           {
            "marker": {
             "colorbar": {
              "outlinewidth": 0,
              "ticks": ""
             }
            },
            "type": "scattermapbox"
           }
          ],
          "scatterpolar": [
           {
            "marker": {
             "colorbar": {
              "outlinewidth": 0,
              "ticks": ""
             }
            },
            "type": "scatterpolar"
           }
          ],
          "scatterpolargl": [
           {
            "marker": {
             "colorbar": {
              "outlinewidth": 0,
              "ticks": ""
             }
            },
            "type": "scatterpolargl"
           }
          ],
          "scatterternary": [
           {
            "marker": {
             "colorbar": {
              "outlinewidth": 0,
              "ticks": ""
             }
            },
            "type": "scatterternary"
           }
          ],
          "surface": [
           {
            "colorbar": {
             "outlinewidth": 0,
             "ticks": ""
            },
            "colorscale": [
             [
              0,
              "#0d0887"
             ],
             [
              0.1111111111111111,
              "#46039f"
             ],
             [
              0.2222222222222222,
              "#7201a8"
             ],
             [
              0.3333333333333333,
              "#9c179e"
             ],
             [
              0.4444444444444444,
              "#bd3786"
             ],
             [
              0.5555555555555556,
              "#d8576b"
             ],
             [
              0.6666666666666666,
              "#ed7953"
             ],
             [
              0.7777777777777778,
              "#fb9f3a"
             ],
             [
              0.8888888888888888,
              "#fdca26"
             ],
             [
              1,
              "#f0f921"
             ]
            ],
            "type": "surface"
           }
          ],
          "table": [
           {
            "cells": {
             "fill": {
              "color": "#EBF0F8"
             },
             "line": {
              "color": "white"
             }
            },
            "header": {
             "fill": {
              "color": "#C8D4E3"
             },
             "line": {
              "color": "white"
             }
            },
            "type": "table"
           }
          ]
         },
         "layout": {
          "annotationdefaults": {
           "arrowcolor": "#2a3f5f",
           "arrowhead": 0,
           "arrowwidth": 1
          },
          "autotypenumbers": "strict",
          "coloraxis": {
           "colorbar": {
            "outlinewidth": 0,
            "ticks": ""
           }
          },
          "colorscale": {
           "diverging": [
            [
             0,
             "#8e0152"
            ],
            [
             0.1,
             "#c51b7d"
            ],
            [
             0.2,
             "#de77ae"
            ],
            [
             0.3,
             "#f1b6da"
            ],
            [
             0.4,
             "#fde0ef"
            ],
            [
             0.5,
             "#f7f7f7"
            ],
            [
             0.6,
             "#e6f5d0"
            ],
            [
             0.7,
             "#b8e186"
            ],
            [
             0.8,
             "#7fbc41"
            ],
            [
             0.9,
             "#4d9221"
            ],
            [
             1,
             "#276419"
            ]
           ],
           "sequential": [
            [
             0,
             "#0d0887"
            ],
            [
             0.1111111111111111,
             "#46039f"
            ],
            [
             0.2222222222222222,
             "#7201a8"
            ],
            [
             0.3333333333333333,
             "#9c179e"
            ],
            [
             0.4444444444444444,
             "#bd3786"
            ],
            [
             0.5555555555555556,
             "#d8576b"
            ],
            [
             0.6666666666666666,
             "#ed7953"
            ],
            [
             0.7777777777777778,
             "#fb9f3a"
            ],
            [
             0.8888888888888888,
             "#fdca26"
            ],
            [
             1,
             "#f0f921"
            ]
           ],
           "sequentialminus": [
            [
             0,
             "#0d0887"
            ],
            [
             0.1111111111111111,
             "#46039f"
            ],
            [
             0.2222222222222222,
             "#7201a8"
            ],
            [
             0.3333333333333333,
             "#9c179e"
            ],
            [
             0.4444444444444444,
             "#bd3786"
            ],
            [
             0.5555555555555556,
             "#d8576b"
            ],
            [
             0.6666666666666666,
             "#ed7953"
            ],
            [
             0.7777777777777778,
             "#fb9f3a"
            ],
            [
             0.8888888888888888,
             "#fdca26"
            ],
            [
             1,
             "#f0f921"
            ]
           ]
          },
          "colorway": [
           "#636efa",
           "#EF553B",
           "#00cc96",
           "#ab63fa",
           "#FFA15A",
           "#19d3f3",
           "#FF6692",
           "#B6E880",
           "#FF97FF",
           "#FECB52"
          ],
          "font": {
           "color": "#2a3f5f"
          },
          "geo": {
           "bgcolor": "white",
           "lakecolor": "white",
           "landcolor": "#E5ECF6",
           "showlakes": true,
           "showland": true,
           "subunitcolor": "white"
          },
          "hoverlabel": {
           "align": "left"
          },
          "hovermode": "closest",
          "mapbox": {
           "style": "light"
          },
          "paper_bgcolor": "white",
          "plot_bgcolor": "#E5ECF6",
          "polar": {
           "angularaxis": {
            "gridcolor": "white",
            "linecolor": "white",
            "ticks": ""
           },
           "bgcolor": "#E5ECF6",
           "radialaxis": {
            "gridcolor": "white",
            "linecolor": "white",
            "ticks": ""
           }
          },
          "scene": {
           "xaxis": {
            "backgroundcolor": "#E5ECF6",
            "gridcolor": "white",
            "gridwidth": 2,
            "linecolor": "white",
            "showbackground": true,
            "ticks": "",
            "zerolinecolor": "white"
           },
           "yaxis": {
            "backgroundcolor": "#E5ECF6",
            "gridcolor": "white",
            "gridwidth": 2,
            "linecolor": "white",
            "showbackground": true,
            "ticks": "",
            "zerolinecolor": "white"
           },
           "zaxis": {
            "backgroundcolor": "#E5ECF6",
            "gridcolor": "white",
            "gridwidth": 2,
            "linecolor": "white",
            "showbackground": true,
            "ticks": "",
            "zerolinecolor": "white"
           }
          },
          "shapedefaults": {
           "line": {
            "color": "#2a3f5f"
           }
          },
          "ternary": {
           "aaxis": {
            "gridcolor": "white",
            "linecolor": "white",
            "ticks": ""
           },
           "baxis": {
            "gridcolor": "white",
            "linecolor": "white",
            "ticks": ""
           },
           "bgcolor": "#E5ECF6",
           "caxis": {
            "gridcolor": "white",
            "linecolor": "white",
            "ticks": ""
           }
          },
          "title": {
           "x": 0.05
          },
          "xaxis": {
           "automargin": true,
           "gridcolor": "white",
           "linecolor": "white",
           "ticks": "",
           "title": {
            "standoff": 15
           },
           "zerolinecolor": "white",
           "zerolinewidth": 2
          },
          "yaxis": {
           "automargin": true,
           "gridcolor": "white",
           "linecolor": "white",
           "ticks": "",
           "title": {
            "standoff": 15
           },
           "zerolinecolor": "white",
           "zerolinewidth": 2
          }
         }
        },
        "title": {
         "text": "Confirmed Cases by Country"
        }
       }
      }
     },
     "metadata": {},
     "output_type": "display_data"
    }
   ],
   "source": [
    "plot_map(Case_worldwide,'Confirmed_Cases', 'Confirmed Cases by Country')"
   ]
  },
  {
   "cell_type": "code",
   "execution_count": null,
   "id": "2783bb52",
   "metadata": {},
   "outputs": [],
   "source": []
  }
 ],
 "metadata": {
  "kernelspec": {
   "display_name": "Python 3 (ipykernel)",
   "language": "python",
   "name": "python3"
  },
  "language_info": {
   "codemirror_mode": {
    "name": "ipython",
    "version": 3
   },
   "file_extension": ".py",
   "mimetype": "text/x-python",
   "name": "python",
   "nbconvert_exporter": "python",
   "pygments_lexer": "ipython3",
   "version": "3.10.9"
  }
 },
 "nbformat": 4,
 "nbformat_minor": 5
}
